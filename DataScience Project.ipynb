{
 "cells": [
  {
   "cell_type": "markdown",
   "id": "3cf7b470",
   "metadata": {},
   "source": [
    "## Data Science Final Project\n",
    "By Daniel Zatakovi & Jeki Skif\n",
    "\n",
    "\n"
   ]
  },
  {
   "cell_type": "markdown",
   "id": "3a83da13",
   "metadata": {},
   "source": [
    "### Project Name: Popular Albums Prediction"
   ]
  },
  {
   "cell_type": "markdown",
   "id": "33c6894e",
   "metadata": {},
   "source": [
    "### Research Question: Is it possible to predict if an album will be popular using different features  \n"
   ]
  },
  {
   "cell_type": "markdown",
   "id": "45c0cd0a",
   "metadata": {},
   "source": [
    "### Our data source: www.discogs.com "
   ]
  },
  {
   "cell_type": "code",
   "execution_count": 2,
   "id": "5733d270",
   "metadata": {},
   "outputs": [],
   "source": [
    "import json\n",
    "import bs4\n",
    "from bs4 import BeautifulSoup  \n",
    "import pandas as pd\n",
    "import scipy as sc\n",
    "import requests\n",
    "from selenium import webdriver\n",
    "import time\n",
    "import re\n",
    "import numpy as np\n",
    "import matplotlib as mpl\n",
    "import matplotlib.pyplot as plt      \n",
    "import math\n",
    "import seaborn as sns\n",
    "from collections import Counter\n",
    "from sklearn.decomposition import PCA\n",
    "import sklearn\n",
    "from sklearn import neighbors, tree, ensemble, naive_bayes, svm\n",
    "from sklearn import linear_model, metrics, preprocessing\n",
    "from sklearn.preprocessing import StandardScaler, MinMaxScaler\n",
    "from sklearn.linear_model import LogisticRegression, LinearRegression\n",
    "from sklearn.metrics import r2_score, f1_score\n",
    "from sklearn.model_selection import train_test_split\n",
    "from sklearn.model_selection import cross_val_score\n",
    "from sklearn.model_selection import GridSearchCV\n",
    "from sklearn.neighbors import KNeighborsClassifier\n",
    "from sklearn import tree\n",
    "from sklearn.tree import DecisionTreeClassifier\n",
    "from sklearn.ensemble import RandomForestClassifier\n",
    "from sklearn.naive_bayes import GaussianNB\n",
    "from sklearn.svm import SVC\n",
    "from sklearn import metrics\n",
    "from sklearn.metrics import accuracy_score, precision_score, recall_score, f1_score, confusion_matrix\n",
    "from sklearn.metrics import make_scorer\n",
    "import string\n",
    "%matplotlib inline"
   ]
  },
  {
   "cell_type": "markdown",
   "id": "9b058732",
   "metadata": {},
   "source": [
    "### Step 1: Data Acquisition\n",
    "We decided to use Selenium in this project since it is a popular tool in the hi-tech industry and we wanted to\n",
    "investigate it capabilities further in this course."
   ]
  },
  {
   "cell_type": "code",
   "execution_count": 3,
   "id": "d143f13c",
   "metadata": {},
   "outputs": [],
   "source": [
    "# load the webdriver, use options.headless to run it in the background\n",
    "def load_webdriver():\n",
    "    from selenium.webdriver.chrome.options import Options\n",
    "    from selenium import webdriver\n",
    "    Options = Options()\n",
    "    Options.headless = True\n",
    "    webdriver = webdriver.Chrome(options=Options)\n",
    "    return webdriver"
   ]
  },
  {
   "cell_type": "code",
   "execution_count": 4,
   "id": "bb8d555e",
   "metadata": {},
   "outputs": [],
   "source": [
    "# Get urls of albums in a page\n",
    "def extract_urls_data_per_page(webdriver):\n",
    "    urls_block=webdriver.find_elements(By.CLASS_NAME, 'search_result_title')\n",
    "    urls_list = []\n",
    "    for url in urls_block:\n",
    "        urls_list.append(url.get_attribute(\"href\"))\n",
    "    return urls_list\n"
   ]
  },
  {
   "cell_type": "code",
   "execution_count": 5,
   "id": "e8db8598",
   "metadata": {},
   "outputs": [],
   "source": [
    "#using the previous function, we get the urls of all pages\n",
    "def extract_url_list(): \n",
    "    url_template = 'https://www.discogs.com/search/?limit=250&sort=want%2Cdesc&ev=em_rs&decade=2010&page={}'\n",
    "    all_albums_url = []\n",
    "    page_num = 1\n",
    "    webdriver = load_webdriver()\n",
    "    while True:\n",
    "        print(\"page num :\" + str(page_num))\n",
    "        url = url_template.format(page_num)\n",
    "        webdriver.get(url)\n",
    "        url_data = extract_urls_data_per_page(webdriver)\n",
    "        if len(url_data) == 0:\n",
    "            break\n",
    "        if url_data is not None:\n",
    "            all_albums_url.extend(url_data)\n",
    "        page_num += 1\n",
    "    return all_albums_url"
   ]
  },
  {
   "cell_type": "code",
   "execution_count": 6,
   "id": "aaab725f",
   "metadata": {},
   "outputs": [],
   "source": [
    "# Feature num.1: Artist Name\n",
    "def get_artist_name(webdriver):\n",
    "    from selenium.common.exceptions import NoSuchElementException\n",
    "    try:\n",
    "        selenium_obj = webdriver.find_element(By.CLASS_NAME, 'title_1q3xW')\n",
    "        selenium_obj = selenium_obj.find_element(By.CLASS_NAME, 'link_1ctor')\n",
    "        artist_name = selenium_obj.get_attribute('innerHTML')\n",
    "        return artist_name\n",
    "    except NoSuchElementException:\n",
    "        return None"
   ]
  },
  {
   "cell_type": "code",
   "execution_count": 7,
   "id": "30e308c3",
   "metadata": {},
   "outputs": [],
   "source": [
    "# Feature num.2: Album Name\n",
    "def get_album_name(webdriver):\n",
    "    from selenium.common.exceptions import NoSuchElementException\n",
    "    try:\n",
    "        selenium_obj = webdriver.find_element(By.CLASS_NAME, 'title_1q3xW')\n",
    "        obj_string = selenium_obj.get_attribute('innerHTML')\n",
    "        album_name = obj_string.split('–')[1].strip().replace('<!--', '').replace('-->', '').strip()\n",
    "        return album_name\n",
    "    except NoSuchElementException:\n",
    "        return None"
   ]
  },
  {
   "cell_type": "code",
   "execution_count": 8,
   "id": "f59c8ab0",
   "metadata": {},
   "outputs": [],
   "source": [
    "# Feature num.3: Album Genre\n",
    "def get_genre_name(webdriver):\n",
    "    from selenium.common.exceptions import NoSuchElementException\n",
    "    try:\n",
    "        selenium_obj = webdriver.find_element(By.CLASS_NAME, 'table_1fWaB')\n",
    "        selenium_obj = selenium_obj.find_element(By.CLASS_NAME, 'link_1ctor')\n",
    "        genre_name = selenium_obj.get_attribute('innerHTML')\n",
    "        return genre_name\n",
    "    except NoSuchElementException:\n",
    "        return None"
   ]
  },
  {
   "cell_type": "code",
   "execution_count": 9,
   "id": "93373455",
   "metadata": {},
   "outputs": [],
   "source": [
    "# Feature num.4: Album Style\n",
    "def get_style_name(webdriver):\n",
    "    from selenium.common.exceptions import NoSuchElementException\n",
    "    try:\n",
    "        from selenium.common.exceptions import NoSuchElementException\n",
    "        selenium_obj = webdriver.find_element(By.CLASS_NAME, 'table_1fWaB')\n",
    "        selenium_obj = selenium_obj.find_elements(By.TAG_NAME,'td')\n",
    "        style_name = selenium_obj[1].find_element(By.CLASS_NAME, 'link_1ctor')\n",
    "        style_name = style_name.get_attribute('innerHTML')\n",
    "        return style_name\n",
    "    except NoSuchElementException:\n",
    "        return None\n"
   ]
  },
  {
   "cell_type": "code",
   "execution_count": 10,
   "id": "35a60dec",
   "metadata": {},
   "outputs": [],
   "source": [
    "# Feature num.5: Album Release Year\n",
    "def get_album_year(webdriver):\n",
    "    from selenium.common.exceptions import NoSuchElementException\n",
    "    try:\n",
    "        selenium_obj = webdriver.find_element(By.CLASS_NAME, 'table_1fWaB')\n",
    "        selenium_obj = selenium_obj.find_elements(By.TAG_NAME,'td')\n",
    "        album_year = selenium_obj[2].find_element(By.CLASS_NAME, 'link_1ctor')\n",
    "        album_year = album_year.find_element(By.XPATH, \"//time\")\n",
    "        album_year = album_year.get_attribute(\"innerHTML\")\n",
    "        return album_year\n",
    "    except NoSuchElementException:\n",
    "        return None\n",
    "    "
   ]
  },
  {
   "cell_type": "code",
   "execution_count": 11,
   "id": "a4552505",
   "metadata": {},
   "outputs": [],
   "source": [
    "# Feature num.6: Album Tracklist Length\n",
    "def get_album_tracklist_len(webdriver):\n",
    "    from selenium.common.exceptions import NoSuchElementException\n",
    "    try:\n",
    "        selenium_obj = webdriver.find_element(By.CLASS_NAME,'tracklist_4KOvL')\n",
    "        rows = selenium_obj.find_elements(By.TAG_NAME, \"tr\")\n",
    "        rows_len = len(rows)\n",
    "        return rows_len\n",
    "    except NoSuchElementException:\n",
    "        return None"
   ]
  },
  {
   "cell_type": "code",
   "execution_count": 12,
   "id": "0dccb4dd",
   "metadata": {},
   "outputs": [],
   "source": [
    "# Feature num.7: Album Price\n",
    "def get_album_price(webdriver):\n",
    "    from selenium.common.exceptions import NoSuchElementException\n",
    "    try:\n",
    "        selenium_obj = webdriver.find_element(By.CLASS_NAME, 'price_2Wkos')\n",
    "        price = selenium_obj.get_attribute(\"innerHTML\")\n",
    "        price = price.replace('$','')\n",
    "        return price\n",
    "    except NoSuchElementException:\n",
    "        return None"
   ]
  },
  {
   "cell_type": "code",
   "execution_count": 13,
   "id": "faed235c",
   "metadata": {},
   "outputs": [],
   "source": [
    "# Feature num.8: How many people have this album\n",
    "def get_album_haves(webdriver):\n",
    "    from selenium.common.exceptions import NoSuchElementException\n",
    "    try:\n",
    "        selenium_object = webdriver.find_element(By.XPATH, '//div[@class=\"items_Y-X8L\"][contains(.,\"Have\")]')    \n",
    "        have_counter = selenium_object.find_element(By.CLASS_NAME, 'link_1ctor')\n",
    "        have_counter = have_counter.get_attribute('innerHTML')\n",
    "        return int(have_counter)\n",
    "    except NoSuchElementException:\n",
    "        return None"
   ]
  },
  {
   "cell_type": "code",
   "execution_count": 14,
   "id": "b1d81e7f",
   "metadata": {},
   "outputs": [],
   "source": [
    "# Feature num.9: How many people want this album\n",
    "def get_album_wants(webdriver):\n",
    "    from selenium.common.exceptions import NoSuchElementException\n",
    "    try:\n",
    "        selenium_obj = webdriver.find_element(By.XPATH, '//div[@class=\"items_Y-X8L\"][contains(.,\"Have\")]')    \n",
    "        selenium_obj = selenium_obj.find_elements(By.TAG_NAME,'li')\n",
    "        want_counter = selenium_obj[1].find_element(By.CLASS_NAME,'link_1ctor')\n",
    "        want_counter = want_counter.get_attribute('innerHTML')\n",
    "        return int(want_counter)\n",
    "    except NoSuchElementException:\n",
    "        return None"
   ]
  },
  {
   "cell_type": "code",
   "execution_count": 15,
   "id": "e06a8337",
   "metadata": {},
   "outputs": [],
   "source": [
    "# Our research label: The rating of the album\n",
    "def get_album_rating_avg(webdriver):\n",
    "    from selenium.common.exceptions import NoSuchElementException\n",
    "    try:\n",
    "        x = webdriver.find_element(By.XPATH, '//div[@class=\"items_Y-X8L\"][contains(.,\"Avg Rating\")]')\n",
    "        y = x.find_elements(By.TAG_NAME,'li')\n",
    "        z = y[0].find_elements(By.TAG_NAME,'span')\n",
    "        avg_rating = z[1].get_attribute('innerHTML').split(\"<!\")[0]\n",
    "        if(avg_rating == '--'):\n",
    "            return None\n",
    "        return float(avg_rating)\n",
    "    except NoSuchElementException:\n",
    "        return None"
   ]
  },
  {
   "cell_type": "code",
   "execution_count": 16,
   "id": "06e36f09",
   "metadata": {},
   "outputs": [],
   "source": [
    "# Feature num.10: How many people rated this album\n",
    "def get_album_total_ratings(webdriver):    \n",
    "    from selenium.common.exceptions import NoSuchElementException\n",
    "    try:\n",
    "        x = webdriver.find_element(By.XPATH, '//div[@class=\"items_Y-X8L\"][contains(.,\"Avg Rating\")]')\n",
    "        y = x.find_elements(By.CLASS_NAME,'link_1ctor')\n",
    "        num_rating = y[0].get_attribute('innerHTML')\n",
    "        if(num_rating == '--'):\n",
    "            return None\n",
    "        return int(num_rating)\n",
    "    except NoSuchElementException:\n",
    "        return None"
   ]
  },
  {
   "cell_type": "code",
   "execution_count": 16,
   "id": "77a9fbfb",
   "metadata": {},
   "outputs": [],
   "source": [
    "# Data consolidation before making it as a dataframe \n",
    "def extract_data_from_album_url(all_albums_url):\n",
    "    webdriver = load_webdriver()\n",
    "    artists_name_list=[]\n",
    "    albums_name_list = []\n",
    "    genres_name_list =[]\n",
    "    style_name_list = []\n",
    "    album_year_list = []\n",
    "    album_tracklist_len_list = []\n",
    "    album_price_list = []\n",
    "    album_have_count_list = []\n",
    "    album_want_count_list = []\n",
    "    avg_rating_list = []\n",
    "    total_rating_list = []\n",
    "    for url in all_albums_url:\n",
    "        print(url)\n",
    "        webdriver.get(url)\n",
    "        artists_name_list.append(get_artist_name(webdriver))\n",
    "        albums_name_list.append(get_album_name(webdriver))\n",
    "        genres_name_list.append(get_genre_name(webdriver))\n",
    "        style_name_list.append(get_style_name(webdriver))\n",
    "        album_year_list.append(get_album_year(webdriver))\n",
    "        album_tracklist_len_list.append(get_album_tracklist_len(webdriver))\n",
    "        album_price_list.append(get_album_price(webdriver))\n",
    "        album_have_count_list.append(get_album_haves(webdriver))\n",
    "        album_want_count_list.append(get_album_wants(webdriver))\n",
    "        avg_rating_list.append(get_album_rating_avg(webdriver))\n",
    "        total_rating_list.append(get_album_total_ratings(webdriver))\n",
    "        time.sleep(2)\n",
    "    return artists_name_list,albums_name_list,genres_name_list, style_name_list, album_year_list, album_tracklist_len_list, album_price_list, album_have_count_list, album_want_count_list, avg_rating_list,total_rating_list"
   ]
  },
  {
   "cell_type": "code",
   "execution_count": 18,
   "id": "666ab441",
   "metadata": {},
   "outputs": [],
   "source": [
    "# Creating a csv file and saving it for usage during the project.\n",
    "def create_CSV():\n",
    "    df_list = extract_data_from_album_url(extract_url_list())\n",
    "    df = pd.DataFrame({'Artist Name' : df_list[0],\n",
    "                      'Album Name' : df_list[1],\n",
    "                      'Genre' : df_list[2],\n",
    "                      'Style': df_list[3],\n",
    "                       'Year': df_list[4],\n",
    "                       'Tracklist Length': df_list[5],\n",
    "                       'Price (USD)': df_list[6],\n",
    "                       'Have Counter': df_list[7],\n",
    "                       'Want Counter': df_list[8],\n",
    "                      'Rating' : df_list[9],\n",
    "                      'Amount Of Ratings' : df_list[10]})\n",
    "    df.to_csv(\"all_data.csv\")\n",
    "    print(df)"
   ]
  },
  {
   "cell_type": "code",
   "execution_count": 19,
   "id": "2206c93e",
   "metadata": {},
   "outputs": [],
   "source": [
    "create_CSV()"
   ]
  },
  {
   "cell_type": "code",
   "execution_count": 3,
   "id": "dfa61371",
   "metadata": {},
   "outputs": [],
   "source": [
    "# Making a dataframe from the csv\n",
    "df = pd.read_csv(\"all_data.csv\", index_col=False)"
   ]
  },
  {
   "cell_type": "code",
   "execution_count": 4,
   "id": "2214f375",
   "metadata": {},
   "outputs": [
    {
     "data": {
      "text/html": [
       "<div>\n",
       "<style scoped>\n",
       "    .dataframe tbody tr th:only-of-type {\n",
       "        vertical-align: middle;\n",
       "    }\n",
       "\n",
       "    .dataframe tbody tr th {\n",
       "        vertical-align: top;\n",
       "    }\n",
       "\n",
       "    .dataframe thead th {\n",
       "        text-align: right;\n",
       "    }\n",
       "</style>\n",
       "<table border=\"1\" class=\"dataframe\">\n",
       "  <thead>\n",
       "    <tr style=\"text-align: right;\">\n",
       "      <th></th>\n",
       "      <th>Unnamed: 0</th>\n",
       "      <th>Artist Name</th>\n",
       "      <th>Album Name</th>\n",
       "      <th>Genre</th>\n",
       "      <th>Style</th>\n",
       "      <th>Year</th>\n",
       "      <th>Tracklist Length</th>\n",
       "      <th>Price (USD)</th>\n",
       "      <th>Have Counter</th>\n",
       "      <th>Want Counter</th>\n",
       "      <th>Rating</th>\n",
       "      <th>Amount Of Ratings</th>\n",
       "    </tr>\n",
       "  </thead>\n",
       "  <tbody>\n",
       "    <tr>\n",
       "      <th>0</th>\n",
       "      <td>0</td>\n",
       "      <td>Daft Punk</td>\n",
       "      <td>Random Access Memories</td>\n",
       "      <td>Electronic</td>\n",
       "      <td>Disco</td>\n",
       "      <td>2013</td>\n",
       "      <td>13.0</td>\n",
       "      <td>2.17</td>\n",
       "      <td>115236.0</td>\n",
       "      <td>58647.0</td>\n",
       "      <td>4.54</td>\n",
       "      <td>12374.0</td>\n",
       "    </tr>\n",
       "    <tr>\n",
       "      <th>1</th>\n",
       "      <td>1</td>\n",
       "      <td>Frank Ocean</td>\n",
       "      <td>Blond</td>\n",
       "      <td>Hip Hop</td>\n",
       "      <td>Contemporary R&amp;B</td>\n",
       "      <td>2016</td>\n",
       "      <td>17.0</td>\n",
       "      <td>22.14</td>\n",
       "      <td>31714.0</td>\n",
       "      <td>58258.0</td>\n",
       "      <td>4.70</td>\n",
       "      <td>2571.0</td>\n",
       "    </tr>\n",
       "    <tr>\n",
       "      <th>2</th>\n",
       "      <td>2</td>\n",
       "      <td>King Gizzard And The Lizard Wizard</td>\n",
       "      <td>Polygondwanaland</td>\n",
       "      <td>Rock</td>\n",
       "      <td>Psychedelic Rock</td>\n",
       "      <td>2017</td>\n",
       "      <td>10.0</td>\n",
       "      <td>5.98</td>\n",
       "      <td>25898.0</td>\n",
       "      <td>42831.0</td>\n",
       "      <td>4.63</td>\n",
       "      <td>2432.0</td>\n",
       "    </tr>\n",
       "    <tr>\n",
       "      <th>3</th>\n",
       "      <td>3</td>\n",
       "      <td>Tame Impala</td>\n",
       "      <td>Currents</td>\n",
       "      <td>Rock</td>\n",
       "      <td>Indie Rock</td>\n",
       "      <td>2015</td>\n",
       "      <td>13.0</td>\n",
       "      <td>1.09</td>\n",
       "      <td>73452.0</td>\n",
       "      <td>43060.0</td>\n",
       "      <td>4.53</td>\n",
       "      <td>5534.0</td>\n",
       "    </tr>\n",
       "    <tr>\n",
       "      <th>4</th>\n",
       "      <td>4</td>\n",
       "      <td>Kanye West</td>\n",
       "      <td>My Beautiful Dark Twisted Fantasy</td>\n",
       "      <td>Hip Hop</td>\n",
       "      <td>Contemporary R&amp;B</td>\n",
       "      <td>2010</td>\n",
       "      <td>13.0</td>\n",
       "      <td>1.65</td>\n",
       "      <td>58808.0</td>\n",
       "      <td>39114.0</td>\n",
       "      <td>4.18</td>\n",
       "      <td>4921.0</td>\n",
       "    </tr>\n",
       "    <tr>\n",
       "      <th>...</th>\n",
       "      <td>...</td>\n",
       "      <td>...</td>\n",
       "      <td>...</td>\n",
       "      <td>...</td>\n",
       "      <td>...</td>\n",
       "      <td>...</td>\n",
       "      <td>...</td>\n",
       "      <td>...</td>\n",
       "      <td>...</td>\n",
       "      <td>...</td>\n",
       "      <td>...</td>\n",
       "      <td>...</td>\n",
       "    </tr>\n",
       "    <tr>\n",
       "      <th>9977</th>\n",
       "      <td>9977</td>\n",
       "      <td>Gorillaz</td>\n",
       "      <td>Humanz</td>\n",
       "      <td>Parlophone</td>\n",
       "      <td>Box Set</td>\n",
       "      <td>03-Nov-17</td>\n",
       "      <td>NaN</td>\n",
       "      <td>163.03</td>\n",
       "      <td>NaN</td>\n",
       "      <td>NaN</td>\n",
       "      <td>NaN</td>\n",
       "      <td>NaN</td>\n",
       "    </tr>\n",
       "    <tr>\n",
       "      <th>9978</th>\n",
       "      <td>9978</td>\n",
       "      <td>Mayhem</td>\n",
       "      <td>De Mysteriis Dom Sathanas</td>\n",
       "      <td>Back On Black</td>\n",
       "      <td>Vinyl</td>\n",
       "      <td>2010</td>\n",
       "      <td>NaN</td>\n",
       "      <td>26.05</td>\n",
       "      <td>NaN</td>\n",
       "      <td>NaN</td>\n",
       "      <td>NaN</td>\n",
       "      <td>NaN</td>\n",
       "    </tr>\n",
       "    <tr>\n",
       "      <th>9979</th>\n",
       "      <td>9979</td>\n",
       "      <td>Ratatat</td>\n",
       "      <td>LP4</td>\n",
       "      <td>XL Recordings</td>\n",
       "      <td>Vinyl</td>\n",
       "      <td>08-Jun-10</td>\n",
       "      <td>NaN</td>\n",
       "      <td>35.00</td>\n",
       "      <td>NaN</td>\n",
       "      <td>NaN</td>\n",
       "      <td>NaN</td>\n",
       "      <td>NaN</td>\n",
       "    </tr>\n",
       "    <tr>\n",
       "      <th>9980</th>\n",
       "      <td>9980</td>\n",
       "      <td>Brenda Ray</td>\n",
       "      <td>Walatta</td>\n",
       "      <td>EM Records</td>\n",
       "      <td>Vinyl</td>\n",
       "      <td>2012</td>\n",
       "      <td>NaN</td>\n",
       "      <td>NaN</td>\n",
       "      <td>NaN</td>\n",
       "      <td>NaN</td>\n",
       "      <td>NaN</td>\n",
       "      <td>NaN</td>\n",
       "    </tr>\n",
       "    <tr>\n",
       "      <th>9981</th>\n",
       "      <td>9981</td>\n",
       "      <td>Tyler Childers</td>\n",
       "      <td>Country Squire</td>\n",
       "      <td>RCA</td>\n",
       "      <td>Vinyl</td>\n",
       "      <td>02-Aug-19</td>\n",
       "      <td>NaN</td>\n",
       "      <td>18.99</td>\n",
       "      <td>NaN</td>\n",
       "      <td>NaN</td>\n",
       "      <td>NaN</td>\n",
       "      <td>NaN</td>\n",
       "    </tr>\n",
       "  </tbody>\n",
       "</table>\n",
       "<p>9982 rows × 12 columns</p>\n",
       "</div>"
      ],
      "text/plain": [
       "      Unnamed: 0                         Artist Name  \\\n",
       "0              0                           Daft Punk   \n",
       "1              1                         Frank Ocean   \n",
       "2              2  King Gizzard And The Lizard Wizard   \n",
       "3              3                         Tame Impala   \n",
       "4              4                          Kanye West   \n",
       "...          ...                                 ...   \n",
       "9977        9977                            Gorillaz   \n",
       "9978        9978                              Mayhem   \n",
       "9979        9979                             Ratatat   \n",
       "9980        9980                          Brenda Ray   \n",
       "9981        9981                      Tyler Childers   \n",
       "\n",
       "                             Album Name          Genre             Style  \\\n",
       "0                Random Access Memories     Electronic             Disco   \n",
       "1                                 Blond        Hip Hop  Contemporary R&B   \n",
       "2                      Polygondwanaland           Rock  Psychedelic Rock   \n",
       "3                              Currents           Rock        Indie Rock   \n",
       "4     My Beautiful Dark Twisted Fantasy        Hip Hop  Contemporary R&B   \n",
       "...                                 ...            ...               ...   \n",
       "9977                             Humanz     Parlophone           Box Set   \n",
       "9978          De Mysteriis Dom Sathanas  Back On Black             Vinyl   \n",
       "9979                                LP4  XL Recordings             Vinyl   \n",
       "9980                            Walatta     EM Records             Vinyl   \n",
       "9981                     Country Squire            RCA             Vinyl   \n",
       "\n",
       "           Year  Tracklist Length  Price (USD)  Have Counter  Want Counter  \\\n",
       "0          2013              13.0         2.17      115236.0       58647.0   \n",
       "1          2016              17.0        22.14       31714.0       58258.0   \n",
       "2          2017              10.0         5.98       25898.0       42831.0   \n",
       "3          2015              13.0         1.09       73452.0       43060.0   \n",
       "4          2010              13.0         1.65       58808.0       39114.0   \n",
       "...         ...               ...          ...           ...           ...   \n",
       "9977  03-Nov-17               NaN       163.03           NaN           NaN   \n",
       "9978       2010               NaN        26.05           NaN           NaN   \n",
       "9979  08-Jun-10               NaN        35.00           NaN           NaN   \n",
       "9980       2012               NaN          NaN           NaN           NaN   \n",
       "9981  02-Aug-19               NaN        18.99           NaN           NaN   \n",
       "\n",
       "      Rating  Amount Of Ratings  \n",
       "0       4.54            12374.0  \n",
       "1       4.70             2571.0  \n",
       "2       4.63             2432.0  \n",
       "3       4.53             5534.0  \n",
       "4       4.18             4921.0  \n",
       "...      ...                ...  \n",
       "9977     NaN                NaN  \n",
       "9978     NaN                NaN  \n",
       "9979     NaN                NaN  \n",
       "9980     NaN                NaN  \n",
       "9981     NaN                NaN  \n",
       "\n",
       "[9982 rows x 12 columns]"
      ]
     },
     "execution_count": 4,
     "metadata": {},
     "output_type": "execute_result"
    }
   ],
   "source": [
    "df"
   ]
  },
  {
   "cell_type": "markdown",
   "id": "0c609231",
   "metadata": {},
   "source": [
    "### Step 2: Data cleansing\n",
    "\n",
    "We will delete unrelevant fields in our dataframe such as duplicates, N/A, and optimise our data for the research"
   ]
  },
  {
   "cell_type": "code",
   "execution_count": 5,
   "id": "a7787d0f",
   "metadata": {},
   "outputs": [],
   "source": [
    "df.drop('Unnamed: 0',axis = 1, inplace = True)"
   ]
  },
  {
   "cell_type": "code",
   "execution_count": 6,
   "id": "f5a7b516",
   "metadata": {},
   "outputs": [],
   "source": [
    "# Delete the N/A fields and duplicates\n",
    "df.dropna(inplace = True)\n",
    "df.drop_duplicates(inplace = True)"
   ]
  },
  {
   "cell_type": "code",
   "execution_count": 7,
   "id": "24a1905a",
   "metadata": {},
   "outputs": [],
   "source": [
    "# We do not want albums that are longer than 20 tracks since they are a minority and they will adversely affect the research\n",
    "df = df[df['Tracklist Length'] <= 20]"
   ]
  },
  {
   "cell_type": "code",
   "execution_count": 8,
   "id": "571c4d56",
   "metadata": {},
   "outputs": [
    {
     "name": "stderr",
     "output_type": "stream",
     "text": [
      "C:\\Users\\jjeki\\AppData\\Local\\Temp\\ipykernel_28324\\3416148948.py:2: SettingWithCopyWarning: \n",
      "A value is trying to be set on a copy of a slice from a DataFrame\n",
      "\n",
      "See the caveats in the documentation: https://pandas.pydata.org/pandas-docs/stable/user_guide/indexing.html#returning-a-view-versus-a-copy\n",
      "  df.drop('Artist Name',axis = 1, inplace = True)\n",
      "C:\\Users\\jjeki\\AppData\\Local\\Temp\\ipykernel_28324\\3416148948.py:3: SettingWithCopyWarning: \n",
      "A value is trying to be set on a copy of a slice from a DataFrame\n",
      "\n",
      "See the caveats in the documentation: https://pandas.pydata.org/pandas-docs/stable/user_guide/indexing.html#returning-a-view-versus-a-copy\n",
      "  df.drop('Album Name',axis = 1, inplace = True)\n"
     ]
    }
   ],
   "source": [
    "# The album name and artist are not relevant for our machine learning since they are unique for a specific albums\n",
    "df.drop('Artist Name',axis = 1, inplace = True)\n",
    "df.drop('Album Name',axis = 1, inplace = True)"
   ]
  },
  {
   "cell_type": "code",
   "execution_count": 9,
   "id": "f753e603",
   "metadata": {},
   "outputs": [
    {
     "name": "stderr",
     "output_type": "stream",
     "text": [
      "C:\\Users\\jjeki\\AppData\\Local\\Temp\\ipykernel_28324\\2689670471.py:2: SettingWithCopyWarning: \n",
      "A value is trying to be set on a copy of a slice from a DataFrame\n",
      "\n",
      "See the caveats in the documentation: https://pandas.pydata.org/pandas-docs/stable/user_guide/indexing.html#returning-a-view-versus-a-copy\n",
      "  df.drop('Style',axis = 1, inplace = True)\n"
     ]
    }
   ],
   "source": [
    "# In our early analysis of our data, we saw that the 'Style' is similar to 'Genre' so we won't use it\n",
    "df.drop('Style',axis = 1, inplace = True)"
   ]
  },
  {
   "cell_type": "code",
   "execution_count": 10,
   "id": "78ab9804",
   "metadata": {},
   "outputs": [],
   "source": [
    "df.reset_index(drop = True , inplace = True)"
   ]
  },
  {
   "cell_type": "code",
   "execution_count": 11,
   "id": "b7b182cb",
   "metadata": {},
   "outputs": [
    {
     "name": "stderr",
     "output_type": "stream",
     "text": [
      "C:\\Users\\jjeki\\AppData\\Local\\Temp\\ipykernel_28324\\1760735445.py:2: SettingWithCopyWarning: \n",
      "A value is trying to be set on a copy of a slice from a DataFrame.\n",
      "Try using .loc[row_indexer,col_indexer] = value instead\n",
      "\n",
      "See the caveats in the documentation: https://pandas.pydata.org/pandas-docs/stable/user_guide/indexing.html#returning-a-view-versus-a-copy\n",
      "  df['Price (USD)'] = df['Price (USD)'].astype(float)\n",
      "C:\\Users\\jjeki\\AppData\\Local\\Temp\\ipykernel_28324\\1760735445.py:3: SettingWithCopyWarning: \n",
      "A value is trying to be set on a copy of a slice from a DataFrame.\n",
      "Try using .loc[row_indexer,col_indexer] = value instead\n",
      "\n",
      "See the caveats in the documentation: https://pandas.pydata.org/pandas-docs/stable/user_guide/indexing.html#returning-a-view-versus-a-copy\n",
      "  df['Year'] = df['Year'].astype(int)\n"
     ]
    }
   ],
   "source": [
    "# Change strings to numbers\n",
    "df['Price (USD)'] = df['Price (USD)'].astype(float)\n",
    "df['Year'] = df['Year'].astype(int)"
   ]
  },
  {
   "cell_type": "code",
   "execution_count": 12,
   "id": "4e783c7b",
   "metadata": {},
   "outputs": [],
   "source": [
    "# We do not want albums that are very expensive and have little to no 'Have' , 'Want', 'Number of Ratings' counter,\n",
    "# since they are a minority and they will adversely affect the research\n",
    "filtered_df = df[(df['Price (USD)'] <= 200) &\n",
    "                 (df['Have Counter'].between(1000, 35000)) &\n",
    "                 (df['Want Counter'].between(1000, 35000)) &\n",
    "                 (df['Amount Of Ratings'] >= 100)]\n",
    "df_clean = pd.DataFrame(filtered_df)"
   ]
  },
  {
   "cell_type": "markdown",
   "id": "d2f3ec47",
   "metadata": {},
   "source": [
    "### Step 3: Data visualization\n"
   ]
  },
  {
   "cell_type": "code",
   "execution_count": 13,
   "id": "6c5ee4c1",
   "metadata": {},
   "outputs": [],
   "source": [
    "# We decided to use the 7 genres with the largest amount of albums for this project\n",
    "def get_freq_elements(df_clean, col_name, num):\n",
    "    freq_elements = df_clean[col_name].value_counts()[:num]\n",
    "    series = pd.Series(freq_elements).sort_index(ascending=True)\n",
    "    return series"
   ]
  },
  {
   "cell_type": "code",
   "execution_count": 14,
   "id": "1e6b3ebd",
   "metadata": {},
   "outputs": [],
   "source": [
    "genres_freq = get_freq_elements(df_clean,'Genre',7)"
   ]
  },
  {
   "cell_type": "code",
   "execution_count": 15,
   "id": "877a77eb",
   "metadata": {},
   "outputs": [
    {
     "data": {
      "text/plain": [
       "Electronic                1175\n",
       "Folk, World, & Country      44\n",
       "Funk / Soul                 84\n",
       "Hip Hop                    185\n",
       "Jazz                        69\n",
       "Pop                         36\n",
       "Rock                      1648\n",
       "Name: Genre, dtype: int64"
      ]
     },
     "execution_count": 15,
     "metadata": {},
     "output_type": "execute_result"
    }
   ],
   "source": [
    "genres_freq"
   ]
  },
  {
   "cell_type": "code",
   "execution_count": 16,
   "id": "3b9a6fe6",
   "metadata": {},
   "outputs": [
    {
     "data": {
      "text/plain": [
       "<AxesSubplot:>"
      ]
     },
     "execution_count": 16,
     "metadata": {},
     "output_type": "execute_result"
    },
    {
     "data": {
      "image/png": "[encoded data removed]",
      "text/plain": [
       "<Figure size 1500x500 with 2 Axes>"
      ]
     },
     "metadata": {},
     "output_type": "display_data"
    }
   ],
   "source": [
    "fig, axes = plt.subplots(1,2, figsize=(15,5))\n",
    "genres_freq.plot(kind = 'pie', ax = axes[1])\n",
    "genres_freq.plot(kind = 'bar', ax = axes[0])"
   ]
  },
  {
   "cell_type": "code",
   "execution_count": 17,
   "id": "f8ba0724",
   "metadata": {},
   "outputs": [],
   "source": [
    "# We made a new dataframe that consists of the 7 genres with the most albums\n",
    "genre_list=[]\n",
    "df_freq_genre = df_clean.copy()\n",
    "genres_freq = get_freq_elements(df,'Genre',7)\n",
    "for key in genres_freq.keys():\n",
    "    genre_list.append(key)   \n",
    "df_freq_genre= df_freq_genre[df_freq_genre['Genre'].isin(genre_list)]\n",
    "df_freq_genre =df_freq_genre.reset_index()          \n",
    "del df_freq_genre[\"index\"]"
   ]
  },
  {
   "cell_type": "code",
   "execution_count": 18,
   "id": "65630afd",
   "metadata": {},
   "outputs": [],
   "source": [
    "# Since our project revolves around whether an album is popular, we changed the rating value to 0 and 1 labeling\n",
    "df_freq_genre['Rating'] = [1 if rating >= 4.5 else 0 for rating in df_freq_genre['Rating']]"
   ]
  },
  {
   "cell_type": "code",
   "execution_count": 19,
   "id": "3dc54f8b",
   "metadata": {},
   "outputs": [
    {
     "data": {
      "text/html": [
       "<div>\n",
       "<style scoped>\n",
       "    .dataframe tbody tr th:only-of-type {\n",
       "        vertical-align: middle;\n",
       "    }\n",
       "\n",
       "    .dataframe tbody tr th {\n",
       "        vertical-align: top;\n",
       "    }\n",
       "\n",
       "    .dataframe thead th {\n",
       "        text-align: right;\n",
       "    }\n",
       "</style>\n",
       "<table border=\"1\" class=\"dataframe\">\n",
       "  <thead>\n",
       "    <tr style=\"text-align: right;\">\n",
       "      <th>Rating</th>\n",
       "      <th>0</th>\n",
       "      <th>1</th>\n",
       "    </tr>\n",
       "    <tr>\n",
       "      <th>Genre</th>\n",
       "      <th></th>\n",
       "      <th></th>\n",
       "    </tr>\n",
       "  </thead>\n",
       "  <tbody>\n",
       "    <tr>\n",
       "      <th>Electronic</th>\n",
       "      <td>0.511489</td>\n",
       "      <td>0.488511</td>\n",
       "    </tr>\n",
       "    <tr>\n",
       "      <th>Folk, World, &amp; Country</th>\n",
       "      <td>0.477273</td>\n",
       "      <td>0.522727</td>\n",
       "    </tr>\n",
       "    <tr>\n",
       "      <th>Funk / Soul</th>\n",
       "      <td>0.428571</td>\n",
       "      <td>0.571429</td>\n",
       "    </tr>\n",
       "    <tr>\n",
       "      <th>Hip Hop</th>\n",
       "      <td>0.718919</td>\n",
       "      <td>0.281081</td>\n",
       "    </tr>\n",
       "    <tr>\n",
       "      <th>Jazz</th>\n",
       "      <td>0.347826</td>\n",
       "      <td>0.652174</td>\n",
       "    </tr>\n",
       "    <tr>\n",
       "      <th>Pop</th>\n",
       "      <td>0.611111</td>\n",
       "      <td>0.388889</td>\n",
       "    </tr>\n",
       "    <tr>\n",
       "      <th>Rock</th>\n",
       "      <td>0.697209</td>\n",
       "      <td>0.302791</td>\n",
       "    </tr>\n",
       "  </tbody>\n",
       "</table>\n",
       "</div>"
      ],
      "text/plain": [
       "Rating                         0         1\n",
       "Genre                                     \n",
       "Electronic              0.511489  0.488511\n",
       "Folk, World, & Country  0.477273  0.522727\n",
       "Funk / Soul             0.428571  0.571429\n",
       "Hip Hop                 0.718919  0.281081\n",
       "Jazz                    0.347826  0.652174\n",
       "Pop                     0.611111  0.388889\n",
       "Rock                    0.697209  0.302791"
      ]
     },
     "metadata": {},
     "output_type": "display_data"
    },
    {
     "data": {
      "text/html": [
       "<div>\n",
       "<style scoped>\n",
       "    .dataframe tbody tr th:only-of-type {\n",
       "        vertical-align: middle;\n",
       "    }\n",
       "\n",
       "    .dataframe tbody tr th {\n",
       "        vertical-align: top;\n",
       "    }\n",
       "\n",
       "    .dataframe thead th {\n",
       "        text-align: right;\n",
       "    }\n",
       "</style>\n",
       "<table border=\"1\" class=\"dataframe\">\n",
       "  <thead>\n",
       "    <tr style=\"text-align: right;\">\n",
       "      <th>Rating</th>\n",
       "      <th>0</th>\n",
       "      <th>1</th>\n",
       "    </tr>\n",
       "    <tr>\n",
       "      <th>Year</th>\n",
       "      <th></th>\n",
       "      <th></th>\n",
       "    </tr>\n",
       "  </thead>\n",
       "  <tbody>\n",
       "    <tr>\n",
       "      <th>2010</th>\n",
       "      <td>0.713855</td>\n",
       "      <td>0.286145</td>\n",
       "    </tr>\n",
       "    <tr>\n",
       "      <th>2011</th>\n",
       "      <td>0.675676</td>\n",
       "      <td>0.324324</td>\n",
       "    </tr>\n",
       "    <tr>\n",
       "      <th>2012</th>\n",
       "      <td>0.680115</td>\n",
       "      <td>0.319885</td>\n",
       "    </tr>\n",
       "    <tr>\n",
       "      <th>2013</th>\n",
       "      <td>0.711735</td>\n",
       "      <td>0.288265</td>\n",
       "    </tr>\n",
       "    <tr>\n",
       "      <th>2014</th>\n",
       "      <td>0.615854</td>\n",
       "      <td>0.384146</td>\n",
       "    </tr>\n",
       "    <tr>\n",
       "      <th>2015</th>\n",
       "      <td>0.632479</td>\n",
       "      <td>0.367521</td>\n",
       "    </tr>\n",
       "    <tr>\n",
       "      <th>2016</th>\n",
       "      <td>0.578431</td>\n",
       "      <td>0.421569</td>\n",
       "    </tr>\n",
       "    <tr>\n",
       "      <th>2017</th>\n",
       "      <td>0.501558</td>\n",
       "      <td>0.498442</td>\n",
       "    </tr>\n",
       "    <tr>\n",
       "      <th>2018</th>\n",
       "      <td>0.432727</td>\n",
       "      <td>0.567273</td>\n",
       "    </tr>\n",
       "    <tr>\n",
       "      <th>2019</th>\n",
       "      <td>0.470320</td>\n",
       "      <td>0.529680</td>\n",
       "    </tr>\n",
       "  </tbody>\n",
       "</table>\n",
       "</div>"
      ],
      "text/plain": [
       "Rating         0         1\n",
       "Year                      \n",
       "2010    0.713855  0.286145\n",
       "2011    0.675676  0.324324\n",
       "2012    0.680115  0.319885\n",
       "2013    0.711735  0.288265\n",
       "2014    0.615854  0.384146\n",
       "2015    0.632479  0.367521\n",
       "2016    0.578431  0.421569\n",
       "2017    0.501558  0.498442\n",
       "2018    0.432727  0.567273\n",
       "2019    0.470320  0.529680"
      ]
     },
     "metadata": {},
     "output_type": "display_data"
    },
    {
     "data": {
      "text/html": [
       "<div>\n",
       "<style scoped>\n",
       "    .dataframe tbody tr th:only-of-type {\n",
       "        vertical-align: middle;\n",
       "    }\n",
       "\n",
       "    .dataframe tbody tr th {\n",
       "        vertical-align: top;\n",
       "    }\n",
       "\n",
       "    .dataframe thead th {\n",
       "        text-align: right;\n",
       "    }\n",
       "</style>\n",
       "<table border=\"1\" class=\"dataframe\">\n",
       "  <thead>\n",
       "    <tr style=\"text-align: right;\">\n",
       "      <th>Rating</th>\n",
       "      <th>0</th>\n",
       "      <th>1</th>\n",
       "    </tr>\n",
       "    <tr>\n",
       "      <th>Tracklist Length</th>\n",
       "      <th></th>\n",
       "      <th></th>\n",
       "    </tr>\n",
       "  </thead>\n",
       "  <tbody>\n",
       "    <tr>\n",
       "      <th>1.0</th>\n",
       "      <td>0.250000</td>\n",
       "      <td>0.750000</td>\n",
       "    </tr>\n",
       "    <tr>\n",
       "      <th>2.0</th>\n",
       "      <td>0.392308</td>\n",
       "      <td>0.607692</td>\n",
       "    </tr>\n",
       "    <tr>\n",
       "      <th>3.0</th>\n",
       "      <td>0.217391</td>\n",
       "      <td>0.782609</td>\n",
       "    </tr>\n",
       "    <tr>\n",
       "      <th>4.0</th>\n",
       "      <td>0.310345</td>\n",
       "      <td>0.689655</td>\n",
       "    </tr>\n",
       "    <tr>\n",
       "      <th>5.0</th>\n",
       "      <td>0.377049</td>\n",
       "      <td>0.622951</td>\n",
       "    </tr>\n",
       "    <tr>\n",
       "      <th>6.0</th>\n",
       "      <td>0.404494</td>\n",
       "      <td>0.595506</td>\n",
       "    </tr>\n",
       "    <tr>\n",
       "      <th>7.0</th>\n",
       "      <td>0.426966</td>\n",
       "      <td>0.573034</td>\n",
       "    </tr>\n",
       "    <tr>\n",
       "      <th>8.0</th>\n",
       "      <td>0.496894</td>\n",
       "      <td>0.503106</td>\n",
       "    </tr>\n",
       "    <tr>\n",
       "      <th>9.0</th>\n",
       "      <td>0.568282</td>\n",
       "      <td>0.431718</td>\n",
       "    </tr>\n",
       "    <tr>\n",
       "      <th>10.0</th>\n",
       "      <td>0.661914</td>\n",
       "      <td>0.338086</td>\n",
       "    </tr>\n",
       "    <tr>\n",
       "      <th>11.0</th>\n",
       "      <td>0.708889</td>\n",
       "      <td>0.291111</td>\n",
       "    </tr>\n",
       "    <tr>\n",
       "      <th>12.0</th>\n",
       "      <td>0.738938</td>\n",
       "      <td>0.261062</td>\n",
       "    </tr>\n",
       "    <tr>\n",
       "      <th>13.0</th>\n",
       "      <td>0.729537</td>\n",
       "      <td>0.270463</td>\n",
       "    </tr>\n",
       "    <tr>\n",
       "      <th>14.0</th>\n",
       "      <td>0.680628</td>\n",
       "      <td>0.319372</td>\n",
       "    </tr>\n",
       "    <tr>\n",
       "      <th>15.0</th>\n",
       "      <td>0.660870</td>\n",
       "      <td>0.339130</td>\n",
       "    </tr>\n",
       "    <tr>\n",
       "      <th>16.0</th>\n",
       "      <td>0.587156</td>\n",
       "      <td>0.412844</td>\n",
       "    </tr>\n",
       "    <tr>\n",
       "      <th>17.0</th>\n",
       "      <td>0.661765</td>\n",
       "      <td>0.338235</td>\n",
       "    </tr>\n",
       "    <tr>\n",
       "      <th>18.0</th>\n",
       "      <td>0.729167</td>\n",
       "      <td>0.270833</td>\n",
       "    </tr>\n",
       "    <tr>\n",
       "      <th>19.0</th>\n",
       "      <td>0.617647</td>\n",
       "      <td>0.382353</td>\n",
       "    </tr>\n",
       "    <tr>\n",
       "      <th>20.0</th>\n",
       "      <td>0.454545</td>\n",
       "      <td>0.545455</td>\n",
       "    </tr>\n",
       "  </tbody>\n",
       "</table>\n",
       "</div>"
      ],
      "text/plain": [
       "Rating                   0         1\n",
       "Tracklist Length                    \n",
       "1.0               0.250000  0.750000\n",
       "2.0               0.392308  0.607692\n",
       "3.0               0.217391  0.782609\n",
       "4.0               0.310345  0.689655\n",
       "5.0               0.377049  0.622951\n",
       "6.0               0.404494  0.595506\n",
       "7.0               0.426966  0.573034\n",
       "8.0               0.496894  0.503106\n",
       "9.0               0.568282  0.431718\n",
       "10.0              0.661914  0.338086\n",
       "11.0              0.708889  0.291111\n",
       "12.0              0.738938  0.261062\n",
       "13.0              0.729537  0.270463\n",
       "14.0              0.680628  0.319372\n",
       "15.0              0.660870  0.339130\n",
       "16.0              0.587156  0.412844\n",
       "17.0              0.661765  0.338235\n",
       "18.0              0.729167  0.270833\n",
       "19.0              0.617647  0.382353\n",
       "20.0              0.454545  0.545455"
      ]
     },
     "metadata": {},
     "output_type": "display_data"
    }
   ],
   "source": [
    "# We want to see how many populars albums there are in each genre, year and tracklist length\n",
    "ct_genre = pd.crosstab(df_freq_genre['Genre'],df_freq_genre['Rating'],normalize='index')\n",
    "ct_year = pd.crosstab(df_freq_genre['Year'],df_freq_genre['Rating'],normalize='index')\n",
    "ct_tracklist_length = pd.crosstab(df_freq_genre['Tracklist Length'],df_freq_genre['Rating'],normalize='index')\n",
    "display(ct_genre)\n",
    "display(ct_year)\n",
    "display(ct_tracklist_length)"
   ]
  },
  {
   "cell_type": "code",
   "execution_count": 20,
   "id": "4f584deb",
   "metadata": {},
   "outputs": [
    {
     "data": {
      "text/plain": [
       "Text(0, 0.5, 'Relative Frequency')"
      ]
     },
     "execution_count": 20,
     "metadata": {},
     "output_type": "execute_result"
    },
    {
     "data": {
      "image/png": "[encoded data removed]",
      "text/plain": [
       "<Figure size 1300x400 with 1 Axes>"
      ]
     },
     "metadata": {},
     "output_type": "display_data"
    },
    {
     "data": {
      "image/png": "[encoded data removed]",
      "text/plain": [
       "<Figure size 1300x400 with 1 Axes>"
      ]
     },
     "metadata": {},
     "output_type": "display_data"
    },
    {
     "data": {
      "image/png": "[encoded data removed]",
      "text/plain": [
       "<Figure size 1300x400 with 1 Axes>"
      ]
     },
     "metadata": {},
     "output_type": "display_data"
    }
   ],
   "source": [
    "ct_genre.plot(kind = 'bar' , figsize = (13,4))\n",
    "plt.title(\"Popular vs. Not Popular Songs By Genre\")\n",
    "plt.xlabel('Genre')\n",
    "plt.ylabel('Relative Frequency')\n",
    "\n",
    "colors = ['red', 'green']\n",
    "ct_year.plot(kind = 'bar' , figsize = (13,4), color = colors)\n",
    "plt.title(\"Popular vs. Not Popular Songs By Year\")\n",
    "plt.xlabel('Year')\n",
    "plt.ylabel('Relative Frequency')\n",
    "\n",
    "colors = ['purple', 'pink']\n",
    "ct_tracklist_length.plot(kind = 'bar' , figsize = (13,4), color = colors)\n",
    "plt.title(\"Popular vs. Not Popular Songs By Tracklist Length\")\n",
    "plt.xlabel('Tracklist Length')\n",
    "plt.ylabel('Relative Frequency')"
   ]
  },
  {
   "cell_type": "code",
   "execution_count": 21,
   "id": "682d776f",
   "metadata": {},
   "outputs": [
    {
     "data": {
      "image/png": "[encoded data removed]",
      "text/plain": [
       "<Figure size 640x480 with 1 Axes>"
      ]
     },
     "metadata": {},
     "output_type": "display_data"
    }
   ],
   "source": [
    "# We wanted to see if there is a connection between an album price and it's popularity\n",
    "sns.scatterplot(data=df_clean, x='Price (USD)', y='Rating')\n",
    "plt.xlabel('Price (USD)')\n",
    "plt.ylabel('Rating')\n",
    "plt.title('Price (USD) vs Rating')\n",
    "plt.show()"
   ]
  },
  {
   "cell_type": "markdown",
   "id": "f8331831",
   "metadata": {},
   "source": [
    "plt.figure(figsize = (13,4))\n",
    "sns.boxplot(df_freq_genre.Genre,df_freq_genre.Year)"
   ]
  },
  {
   "cell_type": "markdown",
   "id": "431feba5",
   "metadata": {},
   "source": [
    "### Step 4: Machine learning"
   ]
  },
  {
   "cell_type": "code",
   "execution_count": 22,
   "id": "494d6016",
   "metadata": {},
   "outputs": [],
   "source": [
    "def genre_to_numeric_values(dataset):\n",
    "    df_factorize = dataset.copy()\n",
    "    df_factorize.dropna(inplace=True)\n",
    "    df_factorize.drop_duplicates(inplace=True)\n",
    "    df_factorize['Genre'] = pd.factorize(df_factorize['Genre'])[0]\n",
    "    return df_factorize"
   ]
  },
  {
   "cell_type": "code",
   "execution_count": 23,
   "id": "e4dea092",
   "metadata": {},
   "outputs": [],
   "source": [
    "df_ml = genre_to_numeric_values(df_clean)"
   ]
  },
  {
   "cell_type": "code",
   "execution_count": 24,
   "id": "7fe473fa",
   "metadata": {},
   "outputs": [],
   "source": [
    "def split_to_train_and_test(dataset, label_column, test_ratio, rand_state):\n",
    "    #split\n",
    "    X = dataset.drop(columns=label_column)\n",
    "    y = dataset[label_column]\n",
    "    \n",
    "    #train\n",
    "    X_train , X_test = train_test_split(X,train_size=1-test_ratio ,random_state=rand_state)\n",
    "    Y_train , Y_test = train_test_split(y, train_size= 1-test_ratio ,random_state=rand_state)\n",
    "    return X_train, X_test, Y_train, Y_test"
   ]
  },
  {
   "cell_type": "code",
   "execution_count": 25,
   "id": "65737849",
   "metadata": {},
   "outputs": [],
   "source": [
    "test_ratio, rand_state = 0.3, 7\n",
    "category_col_name = 'Rating'\n",
    "dataset = genre_to_numeric_values(df_freq_genre) \n",
    "X_train, X_test, y_train, y_test = split_to_train_and_test(dataset, category_col_name, test_ratio, rand_state)"
   ]
  },
  {
   "cell_type": "code",
   "execution_count": 26,
   "id": "eafe3dc2",
   "metadata": {},
   "outputs": [],
   "source": [
    "def get_classifier(classifier_name, params):\n",
    "     \n",
    "    if classifier_name == 'naive_bayes':\n",
    "        return GaussianNB()\n",
    "            \n",
    "    if classifier_name == 'svm':\n",
    "        return SVC()\n",
    "    \n",
    "    if classifier_name == 'decision_tree':\n",
    "        if params == None:\n",
    "            return tree.DecisionTreeClassifier()\n",
    "        else:\n",
    "            return tree.DecisionTreeClassifier(max_depth=params[\"max_depth\"] ,\n",
    "                                          min_samples_split=params[\"min_samples_split\"])\n",
    "    \n",
    "    if classifier_name == 'random_forest':\n",
    "        if params == None:\n",
    "            return RandomForestClassifier()\n",
    "        else:\n",
    "            return RandomForestClassifier(n_estimators = params['n_estimators'])\n",
    "\n",
    "    if classifier_name == 'KNN':\n",
    "        if params == None:\n",
    "            clf = KNeighborsClassifier()\n",
    "            return clf\n",
    "        else:\n",
    "            clf = KNeighborsClassifier(n_neighbors=params['n_neighbors'])\n",
    "            return clf"
   ]
  },
  {
   "cell_type": "code",
   "execution_count": 27,
   "id": "172ee21b",
   "metadata": {},
   "outputs": [],
   "source": [
    "def calc_evaluation_val(eval_metric, y_test, y_predicted):\n",
    "  \n",
    "    if eval_metric == \"accuracy\":\n",
    "        return metrics.accuracy_score(y_test, y_predicted)\n",
    "    \n",
    "    elif eval_metric == \"precision\":\n",
    "        return metrics.precision_score(y_test, y_predicted)\n",
    "    \n",
    "    elif eval_metric == \"recall\":\n",
    "        return metrics.recall_score(y_test, y_predicted,average='micro')\n",
    "    \n",
    "    elif eval_metric == \"f1\":\n",
    "        return metrics.f1_score(y_test, y_predicted)\n",
    "    \n",
    "    else : #confusion_matrix\n",
    "        return confusion_matrix(y_test, y_predicted)\n",
    "    "
   ]
  },
  {
   "cell_type": "code",
   "execution_count": 28,
   "id": "519b8f4e",
   "metadata": {},
   "outputs": [],
   "source": [
    "def find_best_decision_tree_params(X_train, y_train):\n",
    "    parameters = {'max_depth':[2,4,6],\"min_samples_split\":[7,14,28]}\n",
    "    dtree = tree.DecisionTreeClassifier()\n",
    "    clf = GridSearchCV(dtree, parameters, scoring=make_scorer(metrics.f1_score, greater_is_better=True))\n",
    "    clf.fit(X_train, y_train)\n",
    "    best_max_depth = clf.best_params_['max_depth']\n",
    "    best_min_samples_split = clf.best_params_[\"min_samples_split\"]\n",
    "    best_f1_val = clf.best_score_\n",
    "    return best_max_depth, best_min_samples_split, best_f1_val"
   ]
  },
  {
   "cell_type": "code",
   "execution_count": 29,
   "id": "608adf00",
   "metadata": {},
   "outputs": [],
   "source": [
    "X_train, X_test, y_train, y_test = split_to_train_and_test(dataset, category_col_name, test_ratio, rand_state)\n",
    "best_max_dep, best_min_smpl_splt, best_f1_DT_params = find_best_decision_tree_params(X_train, y_train)"
   ]
  },
  {
   "cell_type": "code",
   "execution_count": 30,
   "id": "3fc8da4d",
   "metadata": {},
   "outputs": [],
   "source": [
    "def find_best_random_forest_num_estimators(X_train, y_train):\n",
    "    parameters = {'n_estimators':[11,51,71]}\n",
    "    rf = RandomForestClassifier()\n",
    "    clf = GridSearchCV(rf, parameters, scoring=make_scorer(metrics.f1_score, greater_is_better=True))\n",
    "    clf.fit(X_train, y_train)\n",
    "    best_num_estimators = clf.best_params_['n_estimators']\n",
    "    best_f1_val = clf.best_score_\n",
    "    return best_num_estimators, best_f1_val"
   ]
  },
  {
   "cell_type": "code",
   "execution_count": 31,
   "id": "a1a92c07",
   "metadata": {},
   "outputs": [],
   "source": [
    "X_train, X_test, y_train, y_test = split_to_train_and_test(dataset, category_col_name, test_ratio, rand_state)\n",
    "best_n_estimators, best_f1_RF_params = find_best_random_forest_num_estimators(X_train, y_train)"
   ]
  },
  {
   "cell_type": "code",
   "execution_count": 32,
   "id": "4ca2a60d",
   "metadata": {},
   "outputs": [],
   "source": [
    "def find_best_k_for_KNN(X_train, y_train):\n",
    "    ###\n",
    "    knn = KNeighborsClassifier()\n",
    "    parameters = {'n_neighbors':[3,7,9,11] }\n",
    "    clf = GridSearchCV(knn, parameters,scoring=make_scorer(metrics.f1_score, greater_is_better=True))\n",
    "    clf.fit(X_train, y_train)\n",
    "    return clf.best_params_['n_neighbors'] , clf.best_score_"
   ]
  },
  {
   "cell_type": "code",
   "execution_count": 33,
   "id": "a545887c",
   "metadata": {},
   "outputs": [
    {
     "name": "stderr",
     "output_type": "stream",
     "text": [
      "C:\\Users\\jjeki\\anaconda3\\lib\\site-packages\\sklearn\\neighbors\\_classification.py:228: FutureWarning: Unlike other reduction functions (e.g. `skew`, `kurtosis`), the default behavior of `mode` typically preserves the axis it acts along. In SciPy 1.11.0, this behavior will change: the default value of `keepdims` will become False, the `axis` over which the statistic is taken will be eliminated, and the value None will no longer be accepted. Set `keepdims` to True or False to avoid this warning.\n",
      "  mode, _ = stats.mode(_y[neigh_ind, k], axis=1)\n",
      "C:\\Users\\jjeki\\anaconda3\\lib\\site-packages\\sklearn\\neighbors\\_classification.py:228: FutureWarning: Unlike other reduction functions (e.g. `skew`, `kurtosis`), the default behavior of `mode` typically preserves the axis it acts along. In SciPy 1.11.0, this behavior will change: the default value of `keepdims` will become False, the `axis` over which the statistic is taken will be eliminated, and the value None will no longer be accepted. Set `keepdims` to True or False to avoid this warning.\n",
      "  mode, _ = stats.mode(_y[neigh_ind, k], axis=1)\n",
      "C:\\Users\\jjeki\\anaconda3\\lib\\site-packages\\sklearn\\neighbors\\_classification.py:228: FutureWarning: Unlike other reduction functions (e.g. `skew`, `kurtosis`), the default behavior of `mode` typically preserves the axis it acts along. In SciPy 1.11.0, this behavior will change: the default value of `keepdims` will become False, the `axis` over which the statistic is taken will be eliminated, and the value None will no longer be accepted. Set `keepdims` to True or False to avoid this warning.\n",
      "  mode, _ = stats.mode(_y[neigh_ind, k], axis=1)\n",
      "C:\\Users\\jjeki\\anaconda3\\lib\\site-packages\\sklearn\\neighbors\\_classification.py:228: FutureWarning: Unlike other reduction functions (e.g. `skew`, `kurtosis`), the default behavior of `mode` typically preserves the axis it acts along. In SciPy 1.11.0, this behavior will change: the default value of `keepdims` will become False, the `axis` over which the statistic is taken will be eliminated, and the value None will no longer be accepted. Set `keepdims` to True or False to avoid this warning.\n",
      "  mode, _ = stats.mode(_y[neigh_ind, k], axis=1)\n",
      "C:\\Users\\jjeki\\anaconda3\\lib\\site-packages\\sklearn\\neighbors\\_classification.py:228: FutureWarning: Unlike other reduction functions (e.g. `skew`, `kurtosis`), the default behavior of `mode` typically preserves the axis it acts along. In SciPy 1.11.0, this behavior will change: the default value of `keepdims` will become False, the `axis` over which the statistic is taken will be eliminated, and the value None will no longer be accepted. Set `keepdims` to True or False to avoid this warning.\n",
      "  mode, _ = stats.mode(_y[neigh_ind, k], axis=1)\n",
      "C:\\Users\\jjeki\\anaconda3\\lib\\site-packages\\sklearn\\neighbors\\_classification.py:228: FutureWarning: Unlike other reduction functions (e.g. `skew`, `kurtosis`), the default behavior of `mode` typically preserves the axis it acts along. In SciPy 1.11.0, this behavior will change: the default value of `keepdims` will become False, the `axis` over which the statistic is taken will be eliminated, and the value None will no longer be accepted. Set `keepdims` to True or False to avoid this warning.\n",
      "  mode, _ = stats.mode(_y[neigh_ind, k], axis=1)\n",
      "C:\\Users\\jjeki\\anaconda3\\lib\\site-packages\\sklearn\\neighbors\\_classification.py:228: FutureWarning: Unlike other reduction functions (e.g. `skew`, `kurtosis`), the default behavior of `mode` typically preserves the axis it acts along. In SciPy 1.11.0, this behavior will change: the default value of `keepdims` will become False, the `axis` over which the statistic is taken will be eliminated, and the value None will no longer be accepted. Set `keepdims` to True or False to avoid this warning.\n",
      "  mode, _ = stats.mode(_y[neigh_ind, k], axis=1)\n",
      "C:\\Users\\jjeki\\anaconda3\\lib\\site-packages\\sklearn\\neighbors\\_classification.py:228: FutureWarning: Unlike other reduction functions (e.g. `skew`, `kurtosis`), the default behavior of `mode` typically preserves the axis it acts along. In SciPy 1.11.0, this behavior will change: the default value of `keepdims` will become False, the `axis` over which the statistic is taken will be eliminated, and the value None will no longer be accepted. Set `keepdims` to True or False to avoid this warning.\n",
      "  mode, _ = stats.mode(_y[neigh_ind, k], axis=1)\n",
      "C:\\Users\\jjeki\\anaconda3\\lib\\site-packages\\sklearn\\neighbors\\_classification.py:228: FutureWarning: Unlike other reduction functions (e.g. `skew`, `kurtosis`), the default behavior of `mode` typically preserves the axis it acts along. In SciPy 1.11.0, this behavior will change: the default value of `keepdims` will become False, the `axis` over which the statistic is taken will be eliminated, and the value None will no longer be accepted. Set `keepdims` to True or False to avoid this warning.\n",
      "  mode, _ = stats.mode(_y[neigh_ind, k], axis=1)\n",
      "C:\\Users\\jjeki\\anaconda3\\lib\\site-packages\\sklearn\\neighbors\\_classification.py:228: FutureWarning: Unlike other reduction functions (e.g. `skew`, `kurtosis`), the default behavior of `mode` typically preserves the axis it acts along. In SciPy 1.11.0, this behavior will change: the default value of `keepdims` will become False, the `axis` over which the statistic is taken will be eliminated, and the value None will no longer be accepted. Set `keepdims` to True or False to avoid this warning.\n",
      "  mode, _ = stats.mode(_y[neigh_ind, k], axis=1)\n",
      "C:\\Users\\jjeki\\anaconda3\\lib\\site-packages\\sklearn\\neighbors\\_classification.py:228: FutureWarning: Unlike other reduction functions (e.g. `skew`, `kurtosis`), the default behavior of `mode` typically preserves the axis it acts along. In SciPy 1.11.0, this behavior will change: the default value of `keepdims` will become False, the `axis` over which the statistic is taken will be eliminated, and the value None will no longer be accepted. Set `keepdims` to True or False to avoid this warning.\n",
      "  mode, _ = stats.mode(_y[neigh_ind, k], axis=1)\n",
      "C:\\Users\\jjeki\\anaconda3\\lib\\site-packages\\sklearn\\neighbors\\_classification.py:228: FutureWarning: Unlike other reduction functions (e.g. `skew`, `kurtosis`), the default behavior of `mode` typically preserves the axis it acts along. In SciPy 1.11.0, this behavior will change: the default value of `keepdims` will become False, the `axis` over which the statistic is taken will be eliminated, and the value None will no longer be accepted. Set `keepdims` to True or False to avoid this warning.\n",
      "  mode, _ = stats.mode(_y[neigh_ind, k], axis=1)\n",
      "C:\\Users\\jjeki\\anaconda3\\lib\\site-packages\\sklearn\\neighbors\\_classification.py:228: FutureWarning: Unlike other reduction functions (e.g. `skew`, `kurtosis`), the default behavior of `mode` typically preserves the axis it acts along. In SciPy 1.11.0, this behavior will change: the default value of `keepdims` will become False, the `axis` over which the statistic is taken will be eliminated, and the value None will no longer be accepted. Set `keepdims` to True or False to avoid this warning.\n",
      "  mode, _ = stats.mode(_y[neigh_ind, k], axis=1)\n",
      "C:\\Users\\jjeki\\anaconda3\\lib\\site-packages\\sklearn\\neighbors\\_classification.py:228: FutureWarning: Unlike other reduction functions (e.g. `skew`, `kurtosis`), the default behavior of `mode` typically preserves the axis it acts along. In SciPy 1.11.0, this behavior will change: the default value of `keepdims` will become False, the `axis` over which the statistic is taken will be eliminated, and the value None will no longer be accepted. Set `keepdims` to True or False to avoid this warning.\n",
      "  mode, _ = stats.mode(_y[neigh_ind, k], axis=1)\n",
      "C:\\Users\\jjeki\\anaconda3\\lib\\site-packages\\sklearn\\neighbors\\_classification.py:228: FutureWarning: Unlike other reduction functions (e.g. `skew`, `kurtosis`), the default behavior of `mode` typically preserves the axis it acts along. In SciPy 1.11.0, this behavior will change: the default value of `keepdims` will become False, the `axis` over which the statistic is taken will be eliminated, and the value None will no longer be accepted. Set `keepdims` to True or False to avoid this warning.\n",
      "  mode, _ = stats.mode(_y[neigh_ind, k], axis=1)\n",
      "C:\\Users\\jjeki\\anaconda3\\lib\\site-packages\\sklearn\\neighbors\\_classification.py:228: FutureWarning: Unlike other reduction functions (e.g. `skew`, `kurtosis`), the default behavior of `mode` typically preserves the axis it acts along. In SciPy 1.11.0, this behavior will change: the default value of `keepdims` will become False, the `axis` over which the statistic is taken will be eliminated, and the value None will no longer be accepted. Set `keepdims` to True or False to avoid this warning.\n",
      "  mode, _ = stats.mode(_y[neigh_ind, k], axis=1)\n",
      "C:\\Users\\jjeki\\anaconda3\\lib\\site-packages\\sklearn\\neighbors\\_classification.py:228: FutureWarning: Unlike other reduction functions (e.g. `skew`, `kurtosis`), the default behavior of `mode` typically preserves the axis it acts along. In SciPy 1.11.0, this behavior will change: the default value of `keepdims` will become False, the `axis` over which the statistic is taken will be eliminated, and the value None will no longer be accepted. Set `keepdims` to True or False to avoid this warning.\n",
      "  mode, _ = stats.mode(_y[neigh_ind, k], axis=1)\n",
      "C:\\Users\\jjeki\\anaconda3\\lib\\site-packages\\sklearn\\neighbors\\_classification.py:228: FutureWarning: Unlike other reduction functions (e.g. `skew`, `kurtosis`), the default behavior of `mode` typically preserves the axis it acts along. In SciPy 1.11.0, this behavior will change: the default value of `keepdims` will become False, the `axis` over which the statistic is taken will be eliminated, and the value None will no longer be accepted. Set `keepdims` to True or False to avoid this warning.\n",
      "  mode, _ = stats.mode(_y[neigh_ind, k], axis=1)\n",
      "C:\\Users\\jjeki\\anaconda3\\lib\\site-packages\\sklearn\\neighbors\\_classification.py:228: FutureWarning: Unlike other reduction functions (e.g. `skew`, `kurtosis`), the default behavior of `mode` typically preserves the axis it acts along. In SciPy 1.11.0, this behavior will change: the default value of `keepdims` will become False, the `axis` over which the statistic is taken will be eliminated, and the value None will no longer be accepted. Set `keepdims` to True or False to avoid this warning.\n",
      "  mode, _ = stats.mode(_y[neigh_ind, k], axis=1)\n",
      "C:\\Users\\jjeki\\anaconda3\\lib\\site-packages\\sklearn\\neighbors\\_classification.py:228: FutureWarning: Unlike other reduction functions (e.g. `skew`, `kurtosis`), the default behavior of `mode` typically preserves the axis it acts along. In SciPy 1.11.0, this behavior will change: the default value of `keepdims` will become False, the `axis` over which the statistic is taken will be eliminated, and the value None will no longer be accepted. Set `keepdims` to True or False to avoid this warning.\n",
      "  mode, _ = stats.mode(_y[neigh_ind, k], axis=1)\n"
     ]
    }
   ],
   "source": [
    "test_ratio, rand_state = 0.5, 42\n",
    "category_col_name = 'Rating'\n",
    "X_train, X_test, y_train, y_test = split_to_train_and_test(dataset, category_col_name, test_ratio, rand_state)\n",
    "best_K, best_f1_KNN_params = find_best_k_for_KNN(X_train, y_train)"
   ]
  },
  {
   "cell_type": "code",
   "execution_count": 34,
   "id": "27624f36",
   "metadata": {},
   "outputs": [],
   "source": [
    "def find_best_model(X_train, y_train, max_depth_val, min_samples_split_val):\n",
    "    parameters = {'max_depth':max_depth_val,\"min_samples_split\":min_samples_split_val}\n",
    "    best_clf = None\n",
    "    best_recall_val = -1\n",
    "    algos = [\"svm\",\"naive_bayes\",\"decision_tree\"]\n",
    "    \n",
    "    for alg in algos:\n",
    "        clf = get_classifier(alg,parameters)\n",
    "        clf.fit(X_train, y_train)\n",
    "        y_pred_train = clf.predict(X_train)\n",
    "        recall = calc_evaluation_val('recall',y_train,y_pred_train)\n",
    "        print(clf, recall)\n",
    "        if recall > best_recall_val:\n",
    "            best_recall_val = recall\n",
    "            best_clf = clf\n",
    "    \n",
    "    return best_clf, best_recall_val"
   ]
  },
  {
   "cell_type": "code",
   "execution_count": 38,
   "id": "87d9315d",
   "metadata": {},
   "outputs": [
    {
     "name": "stdout",
     "output_type": "stream",
     "text": [
      "SVC() 0.6986882716049383\n",
      "GaussianNB() 0.7195216049382716\n",
      "DecisionTreeClassifier(max_depth=4, min_samples_split=20) 0.7554012345679012\n",
      "KNN Accuracy:  0.5338015873015873\n",
      "random forest Accuracy:  0.6813779082883306\n"
     ]
    }
   ],
   "source": [
    "test_ratio, rand_state = 0.2, 42\n",
    "category_col_name = 'Rating'\n",
    "max_dep=4\n",
    "min_smpl_splt=20\n",
    "dataset\n",
    "X_train, X_test, y_train, y_test = split_to_train_and_test(dataset, category_col_name, test_ratio, rand_state)\n",
    "best_clf, best_recall_val=find_best_model(X_train, y_train, max_dep, min_smpl_splt)\n",
    "print(\"KNN Accuracy: \" , best_f1_KNN_params )\n",
    "print(\"random forest Accuracy: \" , best_f1_RF_params )"
   ]
  },
  {
   "cell_type": "code",
   "execution_count": 36,
   "id": "334b690a",
   "metadata": {},
   "outputs": [
    {
     "name": "stdout",
     "output_type": "stream",
     "text": [
      "DecisionTreeClassifier(max_depth=4, min_samples_split=10) 0.7554012345679012\n"
     ]
    }
   ],
   "source": [
    "print(best_clf, best_recall_val)"
   ]
  }
 ],
 "metadata": {
  "kernelspec": {
   "display_name": "Python 3 (ipykernel)",
   "language": "python",
   "name": "python3"
  },
  "language_info": {
   "codemirror_mode": {
    "name": "ipython",
    "version": 3
   },
   "file_extension": ".py",
   "mimetype": "text/x-python",
   "name": "python",
   "nbconvert_exporter": "python",
   "pygments_lexer": "ipython3",
   "version": "3.9.13"
  }
 },
 "nbformat": 4,
 "nbformat_minor": 5
}
